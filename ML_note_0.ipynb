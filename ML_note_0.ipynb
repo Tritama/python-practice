{
  "nbformat": 4,
  "nbformat_minor": 0,
  "metadata": {
    "colab": {
      "name": "ML_note_0.ipynb",
      "provenance": [],
      "authorship_tag": "ABX9TyPqFqcIi3UDDBT3ql1O4mP+",
      "include_colab_link": true
    },
    "kernelspec": {
      "name": "python3",
      "display_name": "Python 3"
    },
    "language_info": {
      "name": "python"
    }
  },
  "cells": [
    {
      "cell_type": "markdown",
      "metadata": {
        "id": "view-in-github",
        "colab_type": "text"
      },
      "source": [
        "<a href=\"https://colab.research.google.com/github/Tritama/python-practice/blob/main/ML_note_0.ipynb\" target=\"_parent\"><img src=\"https://colab.research.google.com/assets/colab-badge.svg\" alt=\"Open In Colab\"/></a>"
      ]
    },
    {
      "cell_type": "code",
      "metadata": {
        "colab": {
          "base_uri": "https://localhost:8080/"
        },
        "id": "eN6iK3zX_LOG",
        "outputId": "1bf964b1-4f29-46a9-c490-4364f4b97ff9"
      },
      "source": [
        "from google.colab import drive\n",
        "drive.mount('/content/drive')"
      ],
      "execution_count": 1,
      "outputs": [
        {
          "output_type": "stream",
          "name": "stdout",
          "text": [
            "Mounted at /content/drive\n"
          ]
        }
      ]
    },
    {
      "cell_type": "markdown",
      "metadata": {
        "id": "LoS3A_BsB88b"
      },
      "source": [
        "# python"
      ]
    },
    {
      "cell_type": "code",
      "metadata": {
        "colab": {
          "base_uri": "https://localhost:8080/"
        },
        "id": "kDMolfre2LYC",
        "outputId": "1e86452f-e066-4c79-fe2b-2a43f485fe70"
      },
      "source": [
        "## 変数のデータ型の確認\n",
        "int0 = 1\n",
        "type(int0)"
      ],
      "execution_count": 2,
      "outputs": [
        {
          "output_type": "execute_result",
          "data": {
            "text/plain": [
              "int"
            ]
          },
          "metadata": {},
          "execution_count": 2
        }
      ]
    },
    {
      "cell_type": "code",
      "metadata": {
        "colab": {
          "base_uri": "https://localhost:8080/"
        },
        "id": "OScNHzhc7L5R",
        "outputId": "5a7cfee1-fef7-4f36-b273-c1a4785c0679"
      },
      "source": [
        "## 変数のデータ型の変換（キャスト）\n",
        "str0 = str(int0)\n",
        "type(str0)"
      ],
      "execution_count": 3,
      "outputs": [
        {
          "output_type": "execute_result",
          "data": {
            "text/plain": [
              "str"
            ]
          },
          "metadata": {},
          "execution_count": 3
        }
      ]
    },
    {
      "cell_type": "code",
      "metadata": {
        "colab": {
          "base_uri": "https://localhost:8080/"
        },
        "id": "hVxV91Vy7VX-",
        "outputId": "a9195a04-ac8b-4c34-93e5-158d943c67d5"
      },
      "source": [
        "## 文字列の分割\n",
        "str0 = \"test01test02test03test04\"\n",
        "print(str0.split(\"s\"))\n",
        "print(str0.split())"
      ],
      "execution_count": 4,
      "outputs": [
        {
          "output_type": "stream",
          "name": "stdout",
          "text": [
            "['te', 't01te', 't02te', 't03te', 't04']\n",
            "['test01test02test03test04']\n"
          ]
        }
      ]
    },
    {
      "cell_type": "code",
      "metadata": {
        "colab": {
          "base_uri": "https://localhost:8080/"
        },
        "id": "ZDRAKGt1-CbO",
        "outputId": "83f73b2b-f8e5-4e3e-d05c-dd03b0a0778a"
      },
      "source": [
        "## 文字列の置換\n",
        "print(str0.replace(\"0\",\"100000\",1))\n",
        "print(str0.replace(\"0\",\"100000\",2))"
      ],
      "execution_count": 5,
      "outputs": [
        {
          "output_type": "stream",
          "name": "stdout",
          "text": [
            "test1000001test02test03test04\n",
            "test1000001test1000002test03test04\n"
          ]
        }
      ]
    },
    {
      "cell_type": "code",
      "metadata": {
        "colab": {
          "base_uri": "https://localhost:8080/"
        },
        "id": "vStq3sBv-b3Q",
        "outputId": "97b9abb6-a6a0-4a94-cc23-76d96ad585b1"
      },
      "source": [
        "## 文字列の検索\n",
        "print(\"test\" in str0)\n",
        "print(\"00\" in str0)\n",
        "\n",
        "print(str0.find(\"test\")) #インデックス0番目で\"test\"が見つかるので0が出る\n",
        "print(str0.find(\"00\")) # 見つからないので-1が出る\n",
        "\n",
        "print(str0.count(\"test\")) #個数を数える\n",
        "\n",
        "print(str0.isdecimal()) # 変数が数値のみかどうか調べる\n",
        "print(str0[4:6].isdecimal()) # 変数は数値のみで構成"
      ],
      "execution_count": 6,
      "outputs": [
        {
          "output_type": "stream",
          "name": "stdout",
          "text": [
            "True\n",
            "False\n",
            "0\n",
            "-1\n",
            "4\n",
            "False\n",
            "True\n"
          ]
        }
      ]
    },
    {
      "cell_type": "code",
      "metadata": {
        "colab": {
          "base_uri": "https://localhost:8080/"
        },
        "id": "rtlyjoF--4SF",
        "outputId": "a894d53d-a39b-4be5-8bb2-329c9045c16e"
      },
      "source": [
        "##文字列の削除\n",
        "print(str0.strip(\"test01test04\")) # 両端のみ削除される\n",
        "print(str0.strip(\"02test03\")) # 両端じゃないので削除されない\n",
        "print(str0.rstrip(\"test01test04\")) # 右端のみ削除される\n",
        "print(str0.lstrip(\"test01test04\")) # 左端のみ削除される"
      ],
      "execution_count": 7,
      "outputs": [
        {
          "output_type": "stream",
          "name": "stdout",
          "text": [
            "2test03\n",
            "1test02test03test04\n",
            "test01test02test03\n",
            "2test03test04\n"
          ]
        }
      ]
    },
    {
      "cell_type": "code",
      "metadata": {
        "colab": {
          "base_uri": "https://localhost:8080/"
        },
        "id": "JWMHkQaLAJ0T",
        "outputId": "40e252f1-a608-4569-bba4-fa2145b6f370"
      },
      "source": [
        "## 文字列の長さ\n",
        "print(len(str0))"
      ],
      "execution_count": 8,
      "outputs": [
        {
          "output_type": "stream",
          "name": "stdout",
          "text": [
            "24\n"
          ]
        }
      ]
    },
    {
      "cell_type": "code",
      "metadata": {
        "colab": {
          "base_uri": "https://localhost:8080/"
        },
        "id": "x5KXqiXBR9_q",
        "outputId": "1c8e4601-ed16-4141-f757-888d06404782"
      },
      "source": [
        "## データ構造\n",
        "tuple0 = (\"山田太郎\",170 ,60 ,30 ,\"建築会社\")  # タプル：値の追加や変更はできない\n",
        "list0 = [\"山田太郎\",170 ,60 ,30 ,\"建築会社\"]    # リスト：値の追加や変更は可能\n",
        "dic0 = {\"山田太郎\":170 , \"山田花子\": 155 }      # 辞書：keyとvalueがある．値の追加や変更は可能\n",
        "\n",
        "print(tuple0,list0,dic0)"
      ],
      "execution_count": 9,
      "outputs": [
        {
          "output_type": "stream",
          "name": "stdout",
          "text": [
            "('山田太郎', 170, 60, 30, '建築会社') ['山田太郎', 170, 60, 30, '建築会社'] {'山田太郎': 170, '山田花子': 155}\n"
          ]
        }
      ]
    },
    {
      "cell_type": "code",
      "metadata": {
        "colab": {
          "base_uri": "https://localhost:8080/"
        },
        "id": "H45ZgMC6Wm1j",
        "outputId": "98b4dbed-ae42-4e90-9005-58c21f7ac4fb"
      },
      "source": [
        "# データ構造の変換\n",
        "tuple0 = (\"山田太郎\",170 ,60 ,30 ,\"建築会社\")  # タプル\n",
        "list1 = list(tuple0) #リスト\n",
        "print(type(tuple0),type(list1))"
      ],
      "execution_count": 10,
      "outputs": [
        {
          "output_type": "stream",
          "name": "stdout",
          "text": [
            "<class 'tuple'> <class 'list'>\n"
          ]
        }
      ]
    },
    {
      "cell_type": "code",
      "metadata": {
        "colab": {
          "base_uri": "https://localhost:8080/"
        },
        "id": "TbnVsDRzaIbo",
        "outputId": "42ddb91f-854c-4ab3-e317-42c7e2746039"
      },
      "source": [
        "# データ構造の検索\n",
        "list0 = [\"山田太郎\",170 ,60 ,30 , 30,\"建築会社\"]    # リスト\n",
        "print(list0.index(170)) # 170のインデックス数を検索\n",
        "print(list0.count(30))  # 30のカウントを計算"
      ],
      "execution_count": 11,
      "outputs": [
        {
          "output_type": "stream",
          "name": "stdout",
          "text": [
            "1\n",
            "2\n"
          ]
        }
      ]
    },
    {
      "cell_type": "code",
      "metadata": {
        "colab": {
          "base_uri": "https://localhost:8080/"
        },
        "id": "Ca1R9MWVbc47",
        "outputId": "ccc1109e-d01d-437c-e9e7-168b72911f41"
      },
      "source": [
        "# リストに要素を追加する．\n",
        "list0 = [\"山田太郎\",170 ,60 ,30 , 30,\"建築会社\"]    # リスト\n",
        "list0.append(\"最後に追加する要素\")\n",
        "list0.insert(2,\"3番目に追加する要素\")\n",
        "print(list0)"
      ],
      "execution_count": 12,
      "outputs": [
        {
          "output_type": "stream",
          "name": "stdout",
          "text": [
            "['山田太郎', 170, '3番目に追加する要素', 60, 30, 30, '建築会社', '最後に追加する要素']\n"
          ]
        }
      ]
    },
    {
      "cell_type": "code",
      "metadata": {
        "colab": {
          "base_uri": "https://localhost:8080/"
        },
        "id": "_7hSDY1peIV3",
        "outputId": "f22f5de2-6e4c-42ad-f086-ed5bd094bbc4"
      },
      "source": [
        "# リストにリストを追加する．\n",
        "list0 = [\"山田太郎\",170 ,60 ,30 , 30,\"建築会社\"]    # リスト\n",
        "list0 += [1,2,3] # リストにリストを追加する\n",
        "list0.append([4,5,6]) # リストにリストを入れる\n",
        "print(list0)"
      ],
      "execution_count": 13,
      "outputs": [
        {
          "output_type": "stream",
          "name": "stdout",
          "text": [
            "['山田太郎', 170, 60, 30, 30, '建築会社', 1, 2, 3, [4, 5, 6]]\n"
          ]
        }
      ]
    },
    {
      "cell_type": "code",
      "metadata": {
        "colab": {
          "base_uri": "https://localhost:8080/"
        },
        "id": "4n8WteANfNS1",
        "outputId": "a2a6d45b-69f4-4f95-9201-b9092ddbf245"
      },
      "source": [
        "# リストの要素の削除\n",
        "list0 = [\"山田太郎\",170 ,60 ,30 , 30,\"建築会社\"]    # リスト\n",
        "del list0[1] # list0[1]=170を消す\n",
        "list0.remove(30) #list0の最初の要素30を消す\n",
        "print(list0)"
      ],
      "execution_count": 14,
      "outputs": [
        {
          "output_type": "stream",
          "name": "stdout",
          "text": [
            "['山田太郎', 60, 30, '建築会社']\n"
          ]
        }
      ]
    },
    {
      "cell_type": "code",
      "metadata": {
        "colab": {
          "base_uri": "https://localhost:8080/"
        },
        "id": "Gtf2aS3tfZl2",
        "outputId": "133fef52-cb5b-4b6a-a82c-df6630affc56"
      },
      "source": [
        "# リストのソート\n",
        "list0 = [170 ,60 ,3 , 30,]    # リスト\n",
        "list0.sort() # 昇順にソート 型が揃ってないとソート（比較）は出来ない\n",
        "print(list0)\n",
        "list0.sort(reverse=True) # 降順にソート\n",
        "print(list0)"
      ],
      "execution_count": 15,
      "outputs": [
        {
          "output_type": "stream",
          "name": "stdout",
          "text": [
            "[3, 30, 60, 170]\n",
            "[170, 60, 30, 3]\n"
          ]
        }
      ]
    },
    {
      "cell_type": "code",
      "metadata": {
        "colab": {
          "base_uri": "https://localhost:8080/"
        },
        "id": "GDW_ptYSH7iJ",
        "outputId": "97e5ddd3-d643-4690-e479-7903d3479f10"
      },
      "source": [
        "# 繰返し処理\n",
        "list0 = [10,28,35,43,58]\n",
        "for item in list0:\n",
        "  print(item)\n",
        "\n",
        "for index, item in enumerate(list0):\n",
        "  print(index,item)\n",
        "\n",
        "for i in range(5):\n",
        "  print(i)"
      ],
      "execution_count": 16,
      "outputs": [
        {
          "output_type": "stream",
          "name": "stdout",
          "text": [
            "10\n",
            "28\n",
            "35\n",
            "43\n",
            "58\n",
            "0 10\n",
            "1 28\n",
            "2 35\n",
            "3 43\n",
            "4 58\n",
            "0\n",
            "1\n",
            "2\n",
            "3\n",
            "4\n"
          ]
        }
      ]
    },
    {
      "cell_type": "code",
      "metadata": {
        "colab": {
          "base_uri": "https://localhost:8080/"
        },
        "id": "jZLv788EIM0A",
        "outputId": "11f76de3-9f4a-48de-eb5d-3d392bf6ecaf"
      },
      "source": [
        "# 辞書の繰り返し処理\n",
        "countries_area = {'Russia' : 17098, 'Canada' : 9984, 'America': 9629, 'China' : 9596, 'Brazil' : 8514}\n",
        "for i, j in countries_area.items(): # i:key j:value\n",
        "    result = str(i) +' is '+ str( j*1000) + ' square kilometers'\n",
        "    print(result)"
      ],
      "execution_count": 17,
      "outputs": [
        {
          "output_type": "stream",
          "name": "stdout",
          "text": [
            "Russia is 17098000 square kilometers\n",
            "Canada is 9984000 square kilometers\n",
            "America is 9629000 square kilometers\n",
            "China is 9596000 square kilometers\n",
            "Brazil is 8514000 square kilometers\n"
          ]
        }
      ]
    },
    {
      "cell_type": "code",
      "metadata": {
        "colab": {
          "base_uri": "https://localhost:8080/"
        },
        "id": "g-6kkRqPdusH",
        "outputId": "e879b330-6f3e-41d3-e068-08ae2c9afa54"
      },
      "source": [
        "# for/if内包表記\n",
        "num1 = [ ] #空のリストの用意\n",
        "for i in range(5):\n",
        "    num1.append(i)\n",
        "num2 = [i for i in range(5)]\n",
        "num3 = [i for i in range(8) if i%2==0]\n",
        "\n",
        "print(num1,num2,num3)"
      ],
      "execution_count": 18,
      "outputs": [
        {
          "output_type": "stream",
          "name": "stdout",
          "text": [
            "[0, 1, 2, 3, 4] [0, 1, 2, 3, 4] [0, 2, 4, 6]\n"
          ]
        }
      ]
    },
    {
      "cell_type": "code",
      "metadata": {
        "colab": {
          "base_uri": "https://localhost:8080/"
        },
        "id": "Czr-lW_zerE3",
        "outputId": "81f81340-bee5-4388-9b75-bf157c9408c2"
      },
      "source": [
        "# リスト内包表記\n",
        "scores = [62,48,33,89,91]\n",
        "low_score1 = []\n",
        "for score in scores:\n",
        "    if score < 50:\n",
        "        low_score1.append(score)\n",
        "low_score2 = [score for score in scores if score < 50]\n",
        "print(low_score1,low_score2)"
      ],
      "execution_count": 19,
      "outputs": [
        {
          "output_type": "stream",
          "name": "stdout",
          "text": [
            "[48, 33] [48, 33]\n"
          ]
        }
      ]
    },
    {
      "cell_type": "code",
      "metadata": {
        "id": "GgwlbADVeoyM",
        "colab": {
          "base_uri": "https://localhost:8080/"
        },
        "outputId": "73156361-8b0a-43c7-b2ed-058d83cf7f95"
      },
      "source": [
        "# 辞書内包表記\n",
        "fruits = ['apple','banana','orange','grape','pineapple']\n",
        "fruits_dict = {fruit:len(fruit) for fruit in fruits}\n",
        "print(fruits_dict)"
      ],
      "execution_count": 20,
      "outputs": [
        {
          "output_type": "stream",
          "name": "stdout",
          "text": [
            "{'apple': 5, 'banana': 6, 'orange': 6, 'grape': 5, 'pineapple': 9}\n"
          ]
        }
      ]
    },
    {
      "cell_type": "code",
      "metadata": {
        "colab": {
          "base_uri": "https://localhost:8080/"
        },
        "id": "rUgkPDRpPOWw",
        "outputId": "ab60e533-cf18-4dbe-8fb4-ec8e7952acd0"
      },
      "source": [
        "# 関数とメソッド\n",
        "# 関数は単独で呼び出せる str(text), print(\"text\")\n",
        "# メソッドは変数に依存する list.append(\"new content\")\n",
        "\n",
        "# 任意の数の引数を受け取る\n",
        "def printAll(*items):\n",
        "  return items\n",
        "listA = printAll(1,2,3,4,5,56,5,5,5,5)\n",
        "print(listA)\n",
        "\n",
        "# 無名関数 (lambda 引数:処理)(引数)\n",
        "costs = (lambda cost1,cost2: cost1 * cost2)(10,23)\n",
        "print(costs)"
      ],
      "execution_count": 21,
      "outputs": [
        {
          "output_type": "stream",
          "name": "stdout",
          "text": [
            "(1, 2, 3, 4, 5, 56, 5, 5, 5, 5)\n",
            "230\n"
          ]
        }
      ]
    },
    {
      "cell_type": "code",
      "metadata": {
        "colab": {
          "base_uri": "https://localhost:8080/"
        },
        "id": "3o1swZPkNWr3",
        "outputId": "f4fe3d79-b716-4964-b115-247f8c344254"
      },
      "source": [
        "# ライブラリの中から特定の関数だけインポート\n",
        "from math import pow\n",
        "num = pow(7,3)\n",
        "print(num)"
      ],
      "execution_count": 22,
      "outputs": [
        {
          "output_type": "stream",
          "name": "stdout",
          "text": [
            "343.0\n"
          ]
        }
      ]
    },
    {
      "cell_type": "code",
      "metadata": {
        "colab": {
          "base_uri": "https://localhost:8080/"
        },
        "id": "JO7YOaaNTHo-",
        "outputId": "62221334-2eba-4aa3-c041-53c1b88dd155"
      },
      "source": [
        "# ファイルを開く 同フォルダ内のdata.csvを開いている\n",
        "open_file = open('drive/My Drive/Colab Notebooks/ML/data.csv','r') #第二引数はモードr:read,w:write\n",
        "print(open_file.closed)\n",
        "\n",
        "# ファイルを閉じる\n",
        "open_file.close()\n",
        "print(open_file.closed)"
      ],
      "execution_count": 23,
      "outputs": [
        {
          "output_type": "stream",
          "name": "stdout",
          "text": [
            "False\n",
            "True\n"
          ]
        }
      ]
    },
    {
      "cell_type": "code",
      "metadata": {
        "id": "5-u5FaGDY45R",
        "colab": {
          "base_uri": "https://localhost:8080/"
        },
        "outputId": "f924d47d-1d48-4e39-f098-57ea40754e66"
      },
      "source": [
        "# ファイルを開く with open(ファイル名,モード) as ファイルを格納する変数: 処理\n",
        "import csv\n",
        "\n",
        "# 書き込みモードでファイルを開いて書き込み\n",
        "with open('drive/My Drive/Colab Notebooks/ML/data.csv', 'w') as file:\n",
        "  file.write(\"1,2,3,a,s,d\") # data.csvに書き込み\n",
        "# 読み込みモードでファイルを開いて読み込み\n",
        "with open('drive/My Drive/Colab Notebooks/ML/data.csv', 'r') as file:\n",
        "  print(file.read()) # csvとして読み込む\n",
        "  "
      ],
      "execution_count": 24,
      "outputs": [
        {
          "output_type": "stream",
          "name": "stdout",
          "text": [
            "1,2,3,a,s,d\n"
          ]
        }
      ]
    },
    {
      "cell_type": "markdown",
      "metadata": {
        "id": "mmIhx7EygBAS"
      },
      "source": [
        "# pandas"
      ]
    },
    {
      "cell_type": "code",
      "metadata": {
        "id": "Osnp4UfybQbl"
      },
      "source": [
        "# import\n",
        "import pandas as pd\n",
        "import numpy as np"
      ],
      "execution_count": 25,
      "outputs": []
    },
    {
      "cell_type": "code",
      "metadata": {
        "colab": {
          "base_uri": "https://localhost:8080/"
        },
        "id": "KPyzF0hxgKdH",
        "outputId": "9de9c84f-1064-4fc6-8d74-2e80c4cc9de1"
      },
      "source": [
        "# データの読み込み 区切りを\",\"以外にしたいときは引数でsep=\"区切り\"と指定する\n",
        "data = pd.read_csv(\"drive/My Drive/Colab Notebooks/ML/sample.csv\")\n",
        "print(data)"
      ],
      "execution_count": 26,
      "outputs": [
        {
          "output_type": "stream",
          "name": "stdout",
          "text": [
            "   id      名前  年齢 \n",
            "0   0  yamada   46\n",
            "1   1    sato   35\n",
            "2   2  tanaka   21\n"
          ]
        }
      ]
    },
    {
      "cell_type": "code",
      "metadata": {
        "colab": {
          "base_uri": "https://localhost:8080/"
        },
        "id": "4ZPX9p5CgvGi",
        "outputId": "60dc8c1e-e355-4f7d-9b5a-2eea9ef6bce9"
      },
      "source": [
        "# 特定のデータの取り出し\n",
        "print(data.loc[0]) # 1行目のデータを取り出す\n",
        "print(data.loc[0][1]) # 1行目2列目のデータを取り出す\n",
        "print(data.columns.str.startswith(\"名\")) # \"名\"から始まるカラムをTrueとする関数\n",
        "print(data.columns[data.columns.str.startswith(\"名\")]) # \"名\"から始まるカラムを取り出す"
      ],
      "execution_count": 27,
      "outputs": [
        {
          "output_type": "stream",
          "name": "stdout",
          "text": [
            "id          0\n",
            "名前     yamada\n",
            "年齢         46\n",
            "Name: 0, dtype: object\n",
            "yamada\n",
            "[False  True False]\n",
            "Index(['名前'], dtype='object')\n"
          ]
        }
      ]
    },
    {
      "cell_type": "markdown",
      "metadata": {
        "id": "0kqUlizcjwHz"
      },
      "source": [
        "探索的分析とは\n",
        "データを俯瞰し，データの特徴や予測のための手掛かりとなる仮説を立てる為の網羅的な分析\n",
        "→基本統計量（最大，最小，平均，中央値，分散）\n",
        "→可視化（ヒストグラム，箱髭図，クロス集計）"
      ]
    },
    {
      "cell_type": "code",
      "metadata": {
        "colab": {
          "base_uri": "https://localhost:8080/"
        },
        "id": "EnkmCC0Qi1f7",
        "outputId": "7d7ed69a-5c67-42df-df19-c142fea1d229"
      },
      "source": [
        "# データの操作\n",
        "print(\"------ 元データ ------\")\n",
        "print(data)\n",
        "print(\"------ 'id'カラムを削除する ------\")\n",
        "print(data.drop(columns = ['id']))"
      ],
      "execution_count": 28,
      "outputs": [
        {
          "output_type": "stream",
          "name": "stdout",
          "text": [
            "------ 元データ ------\n",
            "   id      名前  年齢 \n",
            "0   0  yamada   46\n",
            "1   1    sato   35\n",
            "2   2  tanaka   21\n",
            "------ 'id'カラムを削除する ------\n",
            "       名前  年齢 \n",
            "0  yamada   46\n",
            "1    sato   35\n",
            "2  tanaka   21\n"
          ]
        }
      ]
    },
    {
      "cell_type": "code",
      "metadata": {
        "colab": {
          "base_uri": "https://localhost:8080/"
        },
        "id": "sHmVbKOUnT83",
        "outputId": "ea79dbc6-356e-442f-d1c2-48f075ef1170"
      },
      "source": [
        "# 欠損値の扱い\n",
        "data_loss = pd.read_csv(\"drive/My Drive/Colab Notebooks/ML/data_loss.csv\")\n",
        "print(data_loss) # sato の 年齢 が欠損している．\n",
        "print(\"------ 各要素が欠損値かどうかをチェック ------\")\n",
        "print(data_loss.isnull())\n",
        "print(\"------ 各カラムに存在する欠損値の和 ------\")\n",
        "print(data_loss.isnull().sum())\n",
        "print(\"------ 欠損値を含むサンプルを抽出 ------\")\n",
        "print(data_loss.isnull().any(axis=1))\n",
        "print(data_loss[data_loss.isnull().any(axis=1)])\n",
        "print(\"------ 欠損値が存在する行を削除する ------\")\n",
        "print(data_loss.dropna())\n",
        "# 特定のカラムに欠損値が存在する場合に削除したいとき data_loss.dropna(data_loss['カラム名'])\n",
        "print(\"------ 欠損値が存在する行を補完する ------\")\n",
        "data_loss['年齢 '].fillna(255, inplace=True)\n",
        "print(data_loss)\n",
        "print(\"------ 重複部分の数を調べる ------\")\n",
        "print(data_loss.duplicated().sum())\n",
        "# data_loss.drop_duplicates(inplace=True) 重複部分の削除\n",
        "# data_loss.reset_index(drop=True, inplace=True) 重複部分の削除の後に新しいインデックスを取得"
      ],
      "execution_count": 29,
      "outputs": [
        {
          "output_type": "stream",
          "name": "stdout",
          "text": [
            "   id      名前   年齢 \n",
            "0   0  yamada  46.0\n",
            "1   1    sato   NaN\n",
            "2   2  tanaka  21.0\n",
            "------ 各要素が欠損値かどうかをチェック ------\n",
            "      id     名前    年齢 \n",
            "0  False  False  False\n",
            "1  False  False   True\n",
            "2  False  False  False\n",
            "------ 各カラムに存在する欠損値の和 ------\n",
            "id     0\n",
            "名前     0\n",
            "年齢     1\n",
            "dtype: int64\n",
            "------ 欠損値を含むサンプルを抽出 ------\n",
            "0    False\n",
            "1     True\n",
            "2    False\n",
            "dtype: bool\n",
            "   id    名前  年齢 \n",
            "1   1  sato  NaN\n",
            "------ 欠損値が存在する行を削除する ------\n",
            "   id      名前   年齢 \n",
            "0   0  yamada  46.0\n",
            "2   2  tanaka  21.0\n",
            "------ 欠損値が存在する行を補完する ------\n",
            "   id      名前    年齢 \n",
            "0   0  yamada   46.0\n",
            "1   1    sato  255.0\n",
            "2   2  tanaka   21.0\n",
            "------ 重複部分の数を調べる ------\n",
            "0\n"
          ]
        }
      ]
    },
    {
      "cell_type": "code",
      "metadata": {
        "colab": {
          "base_uri": "https://localhost:8080/"
        },
        "id": "Oeu8Nc6bm-VS",
        "outputId": "be2e9721-b202-4ccb-8ca1-b85fdd05a9f8"
      },
      "source": [
        "# データを調べる\n",
        "print(data.describe())      # 基本統計量\n",
        "print(data.describe(include='all')) # 基本統計量(数値型以外の変数も合せて見たい場合)\n",
        "print(data.shape)           # データの大きさを調べる\n",
        "print(data.info())          # 列の型を調べる\n",
        "print(data['名前'].value_counts().sort_index()) #どんな値が何個入っているか．\n",
        "print(type(data))           # pandas.core.frame.DataFrame\n",
        "print(type(data['年齢 ']))  # pandas.core.series.Series"
      ],
      "execution_count": 30,
      "outputs": [
        {
          "output_type": "stream",
          "name": "stdout",
          "text": [
            "        id        年齢 \n",
            "count  3.0   3.000000\n",
            "mean   1.0  34.000000\n",
            "std    1.0  12.529964\n",
            "min    0.0  21.000000\n",
            "25%    0.5  28.000000\n",
            "50%    1.0  35.000000\n",
            "75%    1.5  40.500000\n",
            "max    2.0  46.000000\n",
            "         id      名前        年齢 \n",
            "count   3.0       3   3.000000\n",
            "unique  NaN       3        NaN\n",
            "top     NaN  yamada        NaN\n",
            "freq    NaN       1        NaN\n",
            "mean    1.0     NaN  34.000000\n",
            "std     1.0     NaN  12.529964\n",
            "min     0.0     NaN  21.000000\n",
            "25%     0.5     NaN  28.000000\n",
            "50%     1.0     NaN  35.000000\n",
            "75%     1.5     NaN  40.500000\n",
            "max     2.0     NaN  46.000000\n",
            "(3, 3)\n",
            "<class 'pandas.core.frame.DataFrame'>\n",
            "RangeIndex: 3 entries, 0 to 2\n",
            "Data columns (total 3 columns):\n",
            " #   Column  Non-Null Count  Dtype \n",
            "---  ------  --------------  ----- \n",
            " 0   id      3 non-null      int64 \n",
            " 1   名前      3 non-null      object\n",
            " 2   年齢      3 non-null      int64 \n",
            "dtypes: int64(2), object(1)\n",
            "memory usage: 200.0+ bytes\n",
            "None\n",
            "sato      1\n",
            "tanaka    1\n",
            "yamada    1\n",
            "Name: 名前, dtype: int64\n",
            "<class 'pandas.core.frame.DataFrame'>\n",
            "<class 'pandas.core.series.Series'>\n"
          ]
        }
      ]
    },
    {
      "cell_type": "code",
      "metadata": {
        "colab": {
          "base_uri": "https://localhost:8080/",
          "height": 281
        },
        "id": "c9VWD3FSpvVx",
        "outputId": "8867c826-1f97-4078-eca1-0f091099d057"
      },
      "source": [
        "# ヒストグラムの作成\n",
        "from matplotlib import pyplot as plt\n",
        "data_hist = data['年齢 ']\n",
        "data_hist.plot.hist(title='test hist')\n",
        "plt.show()"
      ],
      "execution_count": 31,
      "outputs": [
        {
          "output_type": "display_data",
          "data": {
            "image/png": "[encoded data removed]",
            "text/plain": [
              "<Figure size 432x288 with 1 Axes>"
            ]
          },
          "metadata": {
            "needs_background": "light"
          }
        }
      ]
    },
    {
      "cell_type": "code",
      "metadata": {
        "colab": {
          "base_uri": "https://localhost:8080/"
        },
        "id": "2vTnP0NEqX_U",
        "outputId": "634b1145-a48b-4af0-a3ad-e5c8aa8d8bec"
      },
      "source": [
        "# 値のカウント \n",
        "data['年齢 '].value_counts() # Seriesが代入されている変数.value_counts()"
      ],
      "execution_count": 32,
      "outputs": [
        {
          "output_type": "execute_result",
          "data": {
            "text/plain": [
              "35    1\n",
              "46    1\n",
              "21    1\n",
              "Name: 年齢 , dtype: int64"
            ]
          },
          "metadata": {},
          "execution_count": 32
        }
      ]
    },
    {
      "cell_type": "code",
      "metadata": {
        "colab": {
          "base_uri": "https://localhost:8080/",
          "height": 298
        },
        "id": "-c53IYnIuavg",
        "outputId": "e95aa536-f5a7-4090-a416-8d005b801ca5"
      },
      "source": [
        "counts = data['年齢 '].value_counts()\n",
        "counts.plot.bar(title='graph name')\n",
        "plt.xlabel('x-axis')\n",
        "plt.ylabel('y-axis')\n",
        "plt.show()"
      ],
      "execution_count": 33,
      "outputs": [
        {
          "output_type": "display_data",
          "data": {
            "image/png": "[encoded data removed]",
            "text/plain": [
              "<Figure size 432x288 with 1 Axes>"
            ]
          },
          "metadata": {
            "needs_background": "light"
          }
        }
      ]
    },
    {
      "cell_type": "code",
      "metadata": {
        "colab": {
          "base_uri": "https://localhost:8080/"
        },
        "id": "Efgcjqr2WN-p",
        "outputId": "61fe1be0-57dc-45f7-b07b-10c5f207d5be"
      },
      "source": [
        "data_train = pd.read_csv(\"drive/My Drive/Colab Notebooks/ML/train.tsv\", sep=\"\\t\" )\n",
        "data_train = data_train.drop(columns=['id'])\n",
        "data_train = data_train.dropna() \n",
        "print(data_train)"
      ],
      "execution_count": 34,
      "outputs": [
        {
          "output_type": "stream",
          "name": "stdout",
          "text": [
            "      mpg  cylinders  displacement  ... model year  origin              car name\n",
            "0    29.0          4         135.0  ...         82       1        dodge aries se\n",
            "1    31.9          4          89.0  ...         79       2      vw rabbit custom\n",
            "2    19.0          6         156.0  ...         76       3        toyota mark ii\n",
            "3    28.0          4          90.0  ...         74       1            dodge colt\n",
            "4    37.7          4          89.0  ...         81       3         toyota tercel\n",
            "..    ...        ...           ...  ...        ...     ...                   ...\n",
            "194  40.8          4          85.0  ...         80       3            datsun 210\n",
            "195  20.2          8         302.0  ...         78       1  mercury monarch ghia\n",
            "196  16.0          8         304.0  ...         70       1         amc rebel sst\n",
            "197  43.4          4          90.0  ...         80       2    vw dasher (diesel)\n",
            "198  26.0          4          98.0  ...         73       2  fiat 124 sport coupe\n",
            "\n",
            "[199 rows x 9 columns]\n"
          ]
        }
      ]
    },
    {
      "cell_type": "code",
      "metadata": {
        "colab": {
          "base_uri": "https://localhost:8080/",
          "height": 757
        },
        "id": "3Liqn5oOv0tK",
        "outputId": "f1020560-f6ba-4908-f521-4feebe4c3eec"
      },
      "source": [
        "# 相関\n",
        "print(data_train.corr())\n",
        "\n",
        "# ヒートマップ\n",
        "import seaborn as sns\n",
        "sns.heatmap(data_train.corr())\n",
        "plt.show()\n",
        "\n",
        "# 散布図\n",
        "plt.scatter(data_train[\"displacement\"], data_train[\"weight\"])\n",
        "plt.show()\n",
        "\n",
        "# 箱髭図 上手くいかないよく分からない\n",
        "# plt.boxplot('Age','Pclass',data=data_t)\n",
        "# plt.show() "
      ],
      "execution_count": 35,
      "outputs": [
        {
          "output_type": "stream",
          "name": "stdout",
          "text": [
            "                   mpg  cylinders  ...  model year    origin\n",
            "mpg           1.000000  -0.770160  ...    0.568471  0.533671\n",
            "cylinders    -0.770160   1.000000  ...   -0.303462 -0.497373\n",
            "displacement -0.804635   0.950600  ...   -0.329817 -0.579805\n",
            "weight       -0.820660   0.893256  ...   -0.265562 -0.535893\n",
            "acceleration  0.379721  -0.479561  ...    0.194854  0.189193\n",
            "model year    0.568471  -0.303462  ...    1.000000  0.124279\n",
            "origin        0.533671  -0.497373  ...    0.124279  1.000000\n",
            "\n",
            "[7 rows x 7 columns]\n"
          ]
        },
        {
          "output_type": "display_data",
          "data": {
            "image/png": "[encoded data removed]",
            "text/plain": [
              "<Figure size 432x288 with 2 Axes>"
            ]
          },
          "metadata": {
            "needs_background": "light"
          }
        },
        {
          "output_type": "display_data",
          "data": {
            "image/png": "[encoded data removed]",
            "text/plain": [
              "<Figure size 432x288 with 1 Axes>"
            ]
          },
          "metadata": {
            "needs_background": "light"
          }
        }
      ]
    },
    {
      "cell_type": "code",
      "metadata": {
        "id": "gCCHbE6_hYie",
        "colab": {
          "base_uri": "https://localhost:8080/"
        },
        "outputId": "a393b22e-0d6a-49b1-cf07-949686354582"
      },
      "source": [
        "# データの分割\n",
        "# 説明変数と目的変数の取り出し\n",
        "y = data_train['mpg']\n",
        "X = data_train[['cylinders','displacement','acceleration','model year','origin']]\n",
        "# scikit-learnライブラリからtrain_test_split関数をインポート\n",
        "from sklearn.model_selection import train_test_split\n",
        "# 学習データと評価データに分割\n",
        "X_train,X_test,y_train,y_test = train_test_split(X, y, random_state = 32)\n",
        "# X_trainとX_testから行数を取り出し、それぞれ変数X_train_line, X_test_lineに代入し、表示\n",
        "X_train_line = X_train.shape[0]\n",
        "X_test_line = X_test.shape[0]\n",
        "print(X_train_line)\n",
        "print(X_test_line)"
      ],
      "execution_count": 36,
      "outputs": [
        {
          "output_type": "stream",
          "name": "stdout",
          "text": [
            "149\n",
            "50\n"
          ]
        }
      ]
    },
    {
      "cell_type": "code",
      "metadata": {
        "colab": {
          "base_uri": "https://localhost:8080/"
        },
        "id": "kN977Xb1gO9L",
        "outputId": "dbe8291a-5c18-43c1-c1ca-6ca3c081bb51"
      },
      "source": [
        "# データの生成\n",
        "actual = [3,4,6,2,4,6,1]\n",
        "pred = [4,2,6,5,3,2,3]\n",
        "\n",
        "# RMSE(二乗平均平方根誤差)\n",
        "a = np.array(actual) - np.array(pred)\n",
        "b = np.power(a,2)\n",
        "c = np.sum(b)\n",
        "d = c / len(actual)\n",
        "e = np.sqrt(d)\n",
        "\n",
        "# 計算結果の表示\n",
        "print('e',e)\n",
        "\n",
        "# MSEを使った計算\n",
        "from sklearn.metrics import mean_squared_error as MSE\n",
        "mse = MSE(actual,pred)\n",
        "rmse = np.sqrt(mse)\n",
        "print('rmse',rmse)"
      ],
      "execution_count": 37,
      "outputs": [
        {
          "output_type": "stream",
          "name": "stdout",
          "text": [
            "e 2.23606797749979\n",
            "rmse 2.23606797749979\n"
          ]
        }
      ]
    },
    {
      "cell_type": "code",
      "metadata": {
        "colab": {
          "base_uri": "https://localhost:8080/",
          "height": 754
        },
        "id": "bRVtOIekzIiV",
        "outputId": "b5bf418f-0e9d-47f8-c7e3-131df4aa28ef"
      },
      "source": [
        "# 重回帰モデルの学習と評価\n",
        "from sklearn.linear_model import LinearRegression as LR\n",
        "y = data_train['mpg']\n",
        "X = data_train[['cylinders','displacement','acceleration','model year','origin']]\n",
        "\n",
        "X = pd.get_dummies(X)# 各説明変数のダミー変数化\n",
        "\n",
        "X_train,X_test,y_train,y_test = train_test_split(X, y, random_state = 32) #学習データとテストデータに分類\n",
        "lr = LR() # モデルの箱を準備\n",
        "lr.fit(X_train,y_train) # モデルを学習\n",
        "# モデルから予測結果を求める\n",
        "y_pred_train = lr.predict(X_train)\n",
        "y_pred_test = lr.predict(X_test)\n",
        "\n",
        "# sklearnライブラリからMSEモジュールのimport\n",
        "from sklearn.metrics import mean_squared_error as MSE\n",
        "\n",
        "# 学習データのRMSEの算出\n",
        "mse_train = MSE(y_train, y_pred_train)\n",
        "rmse_train = np.sqrt(mse_train)\n",
        "\n",
        "# 評価データのRMSEの算出\n",
        "mse_test = MSE(y_test, y_pred_test)\n",
        "rmse_test = np.sqrt(mse_test)\n",
        "\n",
        "# 学習および評価データに対するRMSEを表示\n",
        "print('訓練データのRMSE',rmse_train)\n",
        "print('評価データのRMSE',rmse_test)\n",
        "# これらが近ければ良い．訓練データのみ異常に高ければ過学習が起こっている．\n",
        "\n",
        "# グラフで見てみる\n",
        "plt.figure(figsize=(5,5))\n",
        "plt.scatter(y_test,y_pred_test)\n",
        "\n",
        "# y_test及びy_pred_testの最小値・最大値を求める\n",
        "test_max = np.max(y_test)\n",
        "test_min = np.min(y_test)\n",
        "pred_max = np.max(y_pred_test)\n",
        "pred_min = np.min(y_pred_test)\n",
        "\n",
        "# それぞれの値を比較し、最終的な最小値・最大値を求める\n",
        "max_value = np.maximum(test_max, pred_max)\n",
        "min_value = np.minimum(test_min, pred_min)\n",
        "\n",
        "# x軸およびy軸の値域を指定する\n",
        "plt.xlim([min_value, max_value])\n",
        "plt.ylim([min_value, max_value])\n",
        "\n",
        "# 対角線を引く\n",
        "plt.plot([min_value,max_value],[min_value,max_value])\n",
        "\n",
        "# x軸とy軸に名前を付ける\n",
        "plt.xlabel('実績値')\n",
        "plt.ylabel('予測値')\n",
        "\n",
        "# 可視化結果を表示する為に必要な関数\n",
        "plt.show()"
      ],
      "execution_count": 38,
      "outputs": [
        {
          "output_type": "stream",
          "name": "stdout",
          "text": [
            "訓練データのRMSE 3.7959931741378754\n",
            "評価データのRMSE 3.726733933468822\n"
          ]
        },
        {
          "output_type": "stream",
          "name": "stderr",
          "text": [
            "/usr/local/lib/python3.7/dist-packages/matplotlib/backends/backend_agg.py:214: RuntimeWarning: Glyph 23455 missing from current font.\n",
            "  font.set_text(s, 0.0, flags=flags)\n",
            "/usr/local/lib/python3.7/dist-packages/matplotlib/backends/backend_agg.py:214: RuntimeWarning: Glyph 32318 missing from current font.\n",
            "  font.set_text(s, 0.0, flags=flags)\n",
            "/usr/local/lib/python3.7/dist-packages/matplotlib/backends/backend_agg.py:214: RuntimeWarning: Glyph 20516 missing from current font.\n",
            "  font.set_text(s, 0.0, flags=flags)\n",
            "/usr/local/lib/python3.7/dist-packages/matplotlib/backends/backend_agg.py:214: RuntimeWarning: Glyph 20104 missing from current font.\n",
            "  font.set_text(s, 0.0, flags=flags)\n",
            "/usr/local/lib/python3.7/dist-packages/matplotlib/backends/backend_agg.py:214: RuntimeWarning: Glyph 28204 missing from current font.\n",
            "  font.set_text(s, 0.0, flags=flags)\n",
            "/usr/local/lib/python3.7/dist-packages/matplotlib/backends/backend_agg.py:183: RuntimeWarning: Glyph 23455 missing from current font.\n",
            "  font.set_text(s, 0, flags=flags)\n",
            "/usr/local/lib/python3.7/dist-packages/matplotlib/backends/backend_agg.py:183: RuntimeWarning: Glyph 32318 missing from current font.\n",
            "  font.set_text(s, 0, flags=flags)\n",
            "/usr/local/lib/python3.7/dist-packages/matplotlib/backends/backend_agg.py:183: RuntimeWarning: Glyph 20516 missing from current font.\n",
            "  font.set_text(s, 0, flags=flags)\n",
            "/usr/local/lib/python3.7/dist-packages/matplotlib/backends/backend_agg.py:183: RuntimeWarning: Glyph 20104 missing from current font.\n",
            "  font.set_text(s, 0, flags=flags)\n",
            "/usr/local/lib/python3.7/dist-packages/matplotlib/backends/backend_agg.py:183: RuntimeWarning: Glyph 28204 missing from current font.\n",
            "  font.set_text(s, 0, flags=flags)\n"
          ]
        },
        {
          "output_type": "display_data",
          "data": {
            "image/png": "[encoded data removed]",
            "text/plain": [
              "<Figure size 360x360 with 1 Axes>"
            ]
          },
          "metadata": {
            "needs_background": "light"
          }
        }
      ]
    },
    {
      "cell_type": "markdown",
      "metadata": {
        "id": "1uWBkTwZWyuG"
      },
      "source": [
        "# 血液検査データ"
      ]
    },
    {
      "cell_type": "code",
      "metadata": {
        "id": "5U4Xj6NOc5-t",
        "colab": {
          "base_uri": "https://localhost:8080/",
          "height": 741
        },
        "outputId": "255f362d-688e-4523-b04d-c29b6d255c38"
      },
      "source": [
        "data_k = pd.read_csv(\"drive/My Drive/Colab Notebooks/ML/kenshin_train.csv\")\n",
        "# 下処理\n",
        "data_k[\"AG_ratio\"].fillna(data_k[\"Alb\"] / (data_k[\"TP\"] - data_k[\"Alb\"]), inplace=True)\n",
        "data_k.drop_duplicates(inplace=True)\n",
        "data_k.reset_index(drop=True, inplace=True)\n",
        "\n",
        "#数量変数とカテゴリ変数の分離\n",
        "col_categoric = [\"Gender\", \"disease\"]\n",
        "data_k_numeric = data_k.drop(col_categoric, axis=1)\n",
        "data_k_categoric = data_k[col_categoric]\n",
        "\n",
        "#disease列のカテゴリ（疾患なし:0 または 疾患あり:1）の個数を調べる\n",
        "counts_disease = data_k_categoric[\"disease\"].value_counts()\n",
        "print(counts_disease)\n",
        "\n",
        "#棒グラフによる可視化\n",
        "counts_disease.plot(kind='bar')\n",
        "plt.show()\n",
        "\n",
        "#数量変数のヒストグラムを表示(※figsizeオプションはグラフのサイズを指定）\n",
        "data_k_numeric.hist(figsize=(8, 6))\n",
        "\n",
        "# グラフのラベルが重ならないようにレイアウトを自動調整\n",
        "plt.tight_layout()\n",
        "plt.show()"
      ],
      "execution_count": 39,
      "outputs": [
        {
          "output_type": "stream",
          "name": "stdout",
          "text": [
            "0    460\n",
            "1    431\n",
            "Name: disease, dtype: int64\n"
          ]
        },
        {
          "output_type": "display_data",
          "data": {
            "image/png": "[encoded data removed]",
            "text/plain": [
              "<Figure size 432x288 with 1 Axes>"
            ]
          },
          "metadata": {
            "needs_background": "light"
          }
        },
        {
          "output_type": "display_data",
          "data": {
            "image/png": "[encoded data removed]",
            "text/plain": [
              "<Figure size 576x432 with 12 Axes>"
            ]
          },
          "metadata": {
            "needs_background": "light"
          }
        }
      ]
    },
    {
      "cell_type": "code",
      "metadata": {
        "colab": {
          "base_uri": "https://localhost:8080/",
          "height": 590
        },
        "id": "TZlBlGrqgU38",
        "outputId": "1caabc89-ed81-4d26-b907-96324672dc09"
      },
      "source": [
        "# df_categoric内の\"disease\"列と、df_numericの列を横結合する\n",
        "data_k_tmp = pd.concat([data_k_categoric[\"disease\"], data_k_numeric], axis=1)\n",
        "\n",
        "# 結合したデータフレームの最初の5行を表示\n",
        "print(data_k_tmp.head(5))\n",
        "print(data_k_tmp.query(\"disease == 1\").head()) #queryも出来る\n",
        "\n",
        "# diseaseの値に応じた\"Age\"データの抽出\n",
        "data_k_Age_non=data_k_tmp.query(\"disease==0\")[\"Age\"]\n",
        "data_k_Age_diseased=data_k_tmp.query(\"disease==1\")[\"Age\"]\n",
        "\n",
        "# 2つのデータフレームのヒストグラムを同時に表示\n",
        "sns.distplot(data_k_Age_non)\n",
        "sns.distplot(data_k_Age_diseased)\n",
        "# 凡例の表示\n",
        "plt.legend(labels=[\"non\", \"diseased\"], loc='upper right')\n",
        "plt.show()\n"
      ],
      "execution_count": 40,
      "outputs": [
        {
          "output_type": "stream",
          "name": "stdout",
          "text": [
            "   disease  id  Age  T_Bil  D_Bil    ALP  ALT_GPT  AST_GOT   TP  Alb  AG_ratio\n",
            "0        1   0   60    2.9    1.3  170.9     42.1     37.1  5.5  2.9      1.01\n",
            "1        0   1   28    0.7    0.1  158.8     26.0     23.9  6.4  3.7      1.36\n",
            "2        1   2   60   23.1   12.5  962.0     53.0     40.9  6.8  3.3      0.96\n",
            "3        0   3   20    1.0    0.5  415.9     33.9     39.0  7.0  3.8      1.31\n",
            "4        0   4   44    0.6    0.3  152.9     40.9     42.0  4.5  2.1      1.04\n",
            "   disease  id  Age  T_Bil  D_Bil    ALP  ALT_GPT  AST_GOT   TP  Alb  AG_ratio\n",
            "0        1   0   60    2.9    1.3  170.9     42.1     37.1  5.5  2.9      1.01\n",
            "2        1   2   60   23.1   12.5  962.0     53.0     40.9  6.8  3.3      0.96\n",
            "5        1   5   62   11.1    5.7  699.0     64.0    100.1  7.4  3.3      0.64\n",
            "6        1   6   32   12.4    6.0  514.9     48.1     92.1  6.5  2.5      0.81\n",
            "9        1   9   14    1.7    0.6  268.8     58.0     45.1  6.7  3.9      1.21\n"
          ]
        },
        {
          "output_type": "stream",
          "name": "stderr",
          "text": [
            "/usr/local/lib/python3.7/dist-packages/seaborn/distributions.py:2619: FutureWarning: `distplot` is a deprecated function and will be removed in a future version. Please adapt your code to use either `displot` (a figure-level function with similar flexibility) or `histplot` (an axes-level function for histograms).\n",
            "  warnings.warn(msg, FutureWarning)\n",
            "/usr/local/lib/python3.7/dist-packages/seaborn/distributions.py:2619: FutureWarning: `distplot` is a deprecated function and will be removed in a future version. Please adapt your code to use either `displot` (a figure-level function with similar flexibility) or `histplot` (an axes-level function for histograms).\n",
            "  warnings.warn(msg, FutureWarning)\n"
          ]
        },
        {
          "output_type": "display_data",
          "data": {
            "image/png": "[encoded data removed]",
            "text/plain": [
              "<Figure size 432x288 with 1 Axes>"
            ]
          },
          "metadata": {
            "needs_background": "light"
          }
        }
      ]
    },
    {
      "cell_type": "code",
      "metadata": {
        "colab": {
          "base_uri": "https://localhost:8080/",
          "height": 1000
        },
        "id": "u21cgk686umq",
        "outputId": "5e30f704-cde7-4f4e-dda6-ea938e1e01a7"
      },
      "source": [
        "#グラフの表示\n",
        "plt.figure(figsize=(12, 12))\n",
        "data_k_numeric = data_k_numeric.drop(['id'],axis=1)\n",
        "print(data_k_numeric.columns)\n",
        "for ncol, colname in enumerate(data_k_numeric.columns):\n",
        "  sns.distplot(data_k_tmp.query(\"disease==0\")[colname])\n",
        "  sns.distplot(data_k_tmp.query(\"disease==1\")[colname])\n",
        "  plt.legend(labels=[\"non\", \"diseased\"], loc='upper right')\n",
        "plt.show()"
      ],
      "execution_count": 41,
      "outputs": [
        {
          "output_type": "stream",
          "name": "stdout",
          "text": [
            "Index(['Age', 'T_Bil', 'D_Bil', 'ALP', 'ALT_GPT', 'AST_GOT', 'TP', 'Alb',\n",
            "       'AG_ratio'],\n",
            "      dtype='object')\n"
          ]
        },
        {
          "output_type": "stream",
          "name": "stderr",
          "text": [
            "/usr/local/lib/python3.7/dist-packages/seaborn/distributions.py:2619: FutureWarning: `distplot` is a deprecated function and will be removed in a future version. Please adapt your code to use either `displot` (a figure-level function with similar flexibility) or `histplot` (an axes-level function for histograms).\n",
            "  warnings.warn(msg, FutureWarning)\n",
            "/usr/local/lib/python3.7/dist-packages/seaborn/distributions.py:2619: FutureWarning: `distplot` is a deprecated function and will be removed in a future version. Please adapt your code to use either `displot` (a figure-level function with similar flexibility) or `histplot` (an axes-level function for histograms).\n",
            "  warnings.warn(msg, FutureWarning)\n",
            "/usr/local/lib/python3.7/dist-packages/seaborn/distributions.py:2619: FutureWarning: `distplot` is a deprecated function and will be removed in a future version. Please adapt your code to use either `displot` (a figure-level function with similar flexibility) or `histplot` (an axes-level function for histograms).\n",
            "  warnings.warn(msg, FutureWarning)\n",
            "/usr/local/lib/python3.7/dist-packages/seaborn/distributions.py:2619: FutureWarning: `distplot` is a deprecated function and will be removed in a future version. Please adapt your code to use either `displot` (a figure-level function with similar flexibility) or `histplot` (an axes-level function for histograms).\n",
            "  warnings.warn(msg, FutureWarning)\n",
            "/usr/local/lib/python3.7/dist-packages/seaborn/distributions.py:2619: FutureWarning: `distplot` is a deprecated function and will be removed in a future version. Please adapt your code to use either `displot` (a figure-level function with similar flexibility) or `histplot` (an axes-level function for histograms).\n",
            "  warnings.warn(msg, FutureWarning)\n",
            "/usr/local/lib/python3.7/dist-packages/seaborn/distributions.py:2619: FutureWarning: `distplot` is a deprecated function and will be removed in a future version. Please adapt your code to use either `displot` (a figure-level function with similar flexibility) or `histplot` (an axes-level function for histograms).\n",
            "  warnings.warn(msg, FutureWarning)\n",
            "/usr/local/lib/python3.7/dist-packages/seaborn/distributions.py:2619: FutureWarning: `distplot` is a deprecated function and will be removed in a future version. Please adapt your code to use either `displot` (a figure-level function with similar flexibility) or `histplot` (an axes-level function for histograms).\n",
            "  warnings.warn(msg, FutureWarning)\n",
            "/usr/local/lib/python3.7/dist-packages/seaborn/distributions.py:2619: FutureWarning: `distplot` is a deprecated function and will be removed in a future version. Please adapt your code to use either `displot` (a figure-level function with similar flexibility) or `histplot` (an axes-level function for histograms).\n",
            "  warnings.warn(msg, FutureWarning)\n",
            "/usr/local/lib/python3.7/dist-packages/seaborn/distributions.py:2619: FutureWarning: `distplot` is a deprecated function and will be removed in a future version. Please adapt your code to use either `displot` (a figure-level function with similar flexibility) or `histplot` (an axes-level function for histograms).\n",
            "  warnings.warn(msg, FutureWarning)\n",
            "/usr/local/lib/python3.7/dist-packages/seaborn/distributions.py:2619: FutureWarning: `distplot` is a deprecated function and will be removed in a future version. Please adapt your code to use either `displot` (a figure-level function with similar flexibility) or `histplot` (an axes-level function for histograms).\n",
            "  warnings.warn(msg, FutureWarning)\n",
            "/usr/local/lib/python3.7/dist-packages/seaborn/distributions.py:2619: FutureWarning: `distplot` is a deprecated function and will be removed in a future version. Please adapt your code to use either `displot` (a figure-level function with similar flexibility) or `histplot` (an axes-level function for histograms).\n",
            "  warnings.warn(msg, FutureWarning)\n",
            "/usr/local/lib/python3.7/dist-packages/seaborn/distributions.py:2619: FutureWarning: `distplot` is a deprecated function and will be removed in a future version. Please adapt your code to use either `displot` (a figure-level function with similar flexibility) or `histplot` (an axes-level function for histograms).\n",
            "  warnings.warn(msg, FutureWarning)\n",
            "/usr/local/lib/python3.7/dist-packages/seaborn/distributions.py:2619: FutureWarning: `distplot` is a deprecated function and will be removed in a future version. Please adapt your code to use either `displot` (a figure-level function with similar flexibility) or `histplot` (an axes-level function for histograms).\n",
            "  warnings.warn(msg, FutureWarning)\n",
            "/usr/local/lib/python3.7/dist-packages/seaborn/distributions.py:2619: FutureWarning: `distplot` is a deprecated function and will be removed in a future version. Please adapt your code to use either `displot` (a figure-level function with similar flexibility) or `histplot` (an axes-level function for histograms).\n",
            "  warnings.warn(msg, FutureWarning)\n",
            "/usr/local/lib/python3.7/dist-packages/seaborn/distributions.py:2619: FutureWarning: `distplot` is a deprecated function and will be removed in a future version. Please adapt your code to use either `displot` (a figure-level function with similar flexibility) or `histplot` (an axes-level function for histograms).\n",
            "  warnings.warn(msg, FutureWarning)\n",
            "/usr/local/lib/python3.7/dist-packages/seaborn/distributions.py:2619: FutureWarning: `distplot` is a deprecated function and will be removed in a future version. Please adapt your code to use either `displot` (a figure-level function with similar flexibility) or `histplot` (an axes-level function for histograms).\n",
            "  warnings.warn(msg, FutureWarning)\n",
            "/usr/local/lib/python3.7/dist-packages/seaborn/distributions.py:2619: FutureWarning: `distplot` is a deprecated function and will be removed in a future version. Please adapt your code to use either `displot` (a figure-level function with similar flexibility) or `histplot` (an axes-level function for histograms).\n",
            "  warnings.warn(msg, FutureWarning)\n",
            "/usr/local/lib/python3.7/dist-packages/seaborn/distributions.py:2619: FutureWarning: `distplot` is a deprecated function and will be removed in a future version. Please adapt your code to use either `displot` (a figure-level function with similar flexibility) or `histplot` (an axes-level function for histograms).\n",
            "  warnings.warn(msg, FutureWarning)\n"
          ]
        },
        {
          "output_type": "display_data",
          "data": {
            "image/png": "[encoded data removed]",
            "text/plain": [
              "<Figure size 864x864 with 1 Axes>"
            ]
          },
          "metadata": {
            "needs_background": "light"
          }
        }
      ]
    },
    {
      "cell_type": "code",
      "metadata": {
        "colab": {
          "base_uri": "https://localhost:8080/",
          "height": 686
        },
        "id": "LP0--72O9zQA",
        "outputId": "cb420ac4-a012-47b0-8061-735faac6b3be"
      },
      "source": [
        "# 相関を調べる\n",
        "# T_Bil, D_Bilの抽出・表示\n",
        "print(data_k[[\"T_Bil\", \"D_Bil\"]].head())\n",
        "\n",
        "# T_Bil, D_Bilの相関係数\n",
        "print(data_k[[\"T_Bil\", \"D_Bil\"]].corr())\n",
        "\n",
        "# 見やすく表示\n",
        "plt.figure(figsize=(10,8))\n",
        "sns.heatmap(data_k.corr(), vmin=-1.0, vmax=1.0, annot=True, cmap='coolwarm', linewidths=0.1)\n",
        "plt.show()"
      ],
      "execution_count": 42,
      "outputs": [
        {
          "output_type": "stream",
          "name": "stdout",
          "text": [
            "   T_Bil  D_Bil\n",
            "0    2.9    1.3\n",
            "1    0.7    0.1\n",
            "2   23.1   12.5\n",
            "3    1.0    0.5\n",
            "4    0.6    0.3\n",
            "          T_Bil     D_Bil\n",
            "T_Bil  1.000000  0.992112\n",
            "D_Bil  0.992112  1.000000\n"
          ]
        },
        {
          "output_type": "display_data",
          "data": {
            "image/png": "[encoded data removed]",
            "text/plain": [
              "<Figure size 720x576 with 2 Axes>"
            ]
          },
          "metadata": {
            "needs_background": "light"
          }
        }
      ]
    },
    {
      "cell_type": "code",
      "metadata": {
        "colab": {
          "base_uri": "https://localhost:8080/",
          "height": 462
        },
        "id": "oGi7CU-DBfQt",
        "outputId": "277e6794-7c15-4026-a5da-92947de47671"
      },
      "source": [
        "# 前処理\n",
        "df = pd.read_csv('drive/My Drive/Colab Notebooks/ML/kenshin_train.csv')\n",
        "df[\"AG_ratio\"].fillna(df[\"Alb\"] / (df[\"TP\"] - df[\"Alb\"]), inplace=True)\n",
        "df.drop_duplicates(inplace=True)\n",
        "df.reset_index(drop=True, inplace=True)\n",
        "\n",
        "# Maleが1、Femaleが0になるように\n",
        "# df[\"Gender\"] = df[\"Gender\"].apply(lambda x: 1 if x==\"Male\" else 0) 無名関数を使った方法\n",
        "df[\"Gender\"] = pd.get_dummies(df[\"Gender\"])\n",
        "\n",
        "# 説明変数・目的変数の作成と分割\n",
        "X = df.drop([\"disease\"], axis=1)\n",
        "y = df[\"disease\"]\n",
        "X_train, X_test, y_train, y_test = train_test_split(X, y ,test_size=0.3, random_state=0)\n",
        "\n",
        "# モデルの学習：ロジスティック回帰\n",
        "from sklearn.model_selection import train_test_split\n",
        "from sklearn.linear_model import LogisticRegression\n",
        "from sklearn.metrics import roc_auc_score, roc_curve\n",
        "lr = LogisticRegression()\n",
        "lr.fit(X_train, y_train)\n",
        "\n",
        "# モデルの予測（疾患あり(=1)に属する確率の算出）\n",
        "y_pred_prob = lr.predict_proba(X_test)[:, 1]\n",
        "\n",
        "# AUCスコアの算出\n",
        "auc_score = roc_auc_score(y_true=y_test, y_score=y_pred_prob)\n",
        "print(auc_score)\n",
        "\n",
        "# ROC曲線の要素（偽陽性率、真陽性率、閾値）の算出\n",
        "fpr, tpr, thresholds = roc_curve(y_true=y_test, y_score=y_pred_prob)\n",
        "\n",
        "# ROC曲線の描画\n",
        "plt.plot(fpr, tpr, label='roc curve (area = %0.3f)' % auc_score)\n",
        "plt.plot([0, 1], [0, 1], linestyle=':', label='random')\n",
        "plt.plot([0, 0, 1], [0, 1, 1], linestyle=':', label='ideal')\n",
        "plt.legend()\n",
        "plt.xlabel('false positive rate')\n",
        "plt.ylabel('true positive rate')\n",
        "plt.show()\n",
        "#描画された曲線(roc curve)がROC曲線\n",
        "#その面積がAUCで，これが大きいほど良いモデルといえる"
      ],
      "execution_count": 43,
      "outputs": [
        {
          "output_type": "stream",
          "name": "stdout",
          "text": [
            "0.8195241544547834\n"
          ]
        },
        {
          "output_type": "stream",
          "name": "stderr",
          "text": [
            "/usr/local/lib/python3.7/dist-packages/sklearn/linear_model/_logistic.py:940: ConvergenceWarning: lbfgs failed to converge (status=1):\n",
            "STOP: TOTAL NO. of ITERATIONS REACHED LIMIT.\n",
            "\n",
            "Increase the number of iterations (max_iter) or scale the data as shown in:\n",
            "    https://scikit-learn.org/stable/modules/preprocessing.html\n",
            "Please also refer to the documentation for alternative solver options:\n",
            "    https://scikit-learn.org/stable/modules/linear_model.html#logistic-regression\n",
            "  extra_warning_msg=_LOGISTIC_SOLVER_CONVERGENCE_MSG)\n"
          ]
        },
        {
          "output_type": "display_data",
          "data": {
            "image/png": "[encoded data removed]",
            "text/plain": [
              "<Figure size 432x288 with 1 Axes>"
            ]
          },
          "metadata": {
            "needs_background": "light"
          }
        }
      ]
    },
    {
      "cell_type": "code",
      "metadata": {
        "colab": {
          "base_uri": "https://localhost:8080/",
          "height": 462
        },
        "id": "RDhQOCtlSCha",
        "outputId": "40da8e22-bcf0-476e-89fc-b80716929339"
      },
      "source": [
        "# 等間隔のbin分割\n",
        "# ビニング(binning)は、連続値をビン(bin)と呼ばれる離散値に置き換える処理を指します。\n",
        "# 境界値を指定したbinの分割\n",
        "bins_T_Bil = [0, 0.5, 1.0, 100]\n",
        "X_cut, bin_indice = pd.cut(X[\"T_Bil\"], bins=bins_T_Bil, retbins=True, labels=False)\n",
        "X_dummies = pd.get_dummies(X_cut, prefix=X_cut.name)\n",
        "X_binned = pd.concat([X, X_dummies], axis=1)\n",
        "\n",
        "# 学習用・評価用データの分割（元の説明変数Xの代わりに、bin分割したX_binnedを使う）\n",
        "X_train, X_test, y_train, y_test = train_test_split(X_binned, y, test_size=0.3, random_state=0)\n",
        "\n",
        "# モデルの学習・予測\n",
        "model = LogisticRegression()\n",
        "model.fit(X_train, y_train)\n",
        "y_pred = model.predict_proba(X_test)[:, 1]\n",
        "\n",
        "# ROC曲線の描画（偽陽性率、真陽性率、閾値の算出）\n",
        "fpr, tpr, thresholds = roc_curve(y_true=y_test, y_score=y_pred)\n",
        "plt.plot(fpr, tpr, label='roc curve')\n",
        "plt.plot([0, 1], [0, 1], linestyle=':', label='random')\n",
        "plt.plot([0, 0, 1], [0, 1, 1], linestyle=':', label='ideal')\n",
        "plt.legend()\n",
        "plt.xlabel('false positive rate')\n",
        "plt.ylabel('true positive rate')\n",
        "plt.show()\n",
        "\n",
        "# AUCスコアの算出\n",
        "auc_score = roc_auc_score(y_true=y_test, y_score=y_pred)\n",
        "print(\"AUC:\", auc_score)"
      ],
      "execution_count": 44,
      "outputs": [
        {
          "output_type": "stream",
          "name": "stderr",
          "text": [
            "/usr/local/lib/python3.7/dist-packages/sklearn/linear_model/_logistic.py:940: ConvergenceWarning: lbfgs failed to converge (status=1):\n",
            "STOP: TOTAL NO. of ITERATIONS REACHED LIMIT.\n",
            "\n",
            "Increase the number of iterations (max_iter) or scale the data as shown in:\n",
            "    https://scikit-learn.org/stable/modules/preprocessing.html\n",
            "Please also refer to the documentation for alternative solver options:\n",
            "    https://scikit-learn.org/stable/modules/linear_model.html#logistic-regression\n",
            "  extra_warning_msg=_LOGISTIC_SOLVER_CONVERGENCE_MSG)\n"
          ]
        },
        {
          "output_type": "display_data",
          "data": {
            "image/png": "[encoded data removed]",
            "text/plain": [
              "<Figure size 432x288 with 1 Axes>"
            ]
          },
          "metadata": {
            "needs_background": "light"
          }
        },
        {
          "output_type": "stream",
          "name": "stdout",
          "text": [
            "AUC: 0.8325068256533125\n"
          ]
        }
      ]
    },
    {
      "cell_type": "code",
      "metadata": {
        "id": "uUKhapa6ceZU"
      },
      "source": [
        "# 多項式・交互作用特徴量の生成\n",
        "# X1,X2という特徴量に対して，X1^2,X1X2,X2^2を新たに特徴量として使用する（degree=2）"
      ],
      "execution_count": 45,
      "outputs": []
    },
    {
      "cell_type": "code",
      "metadata": {
        "colab": {
          "base_uri": "https://localhost:8080/",
          "height": 498
        },
        "id": "nWHIMNSRi-0I",
        "outputId": "828e2385-1bda-4f42-d77e-163988683e86"
      },
      "source": [
        "# ライブラリのimport\n",
        "import pandas as pd\n",
        "import matplotlib.pyplot as plt\n",
        "from sklearn.model_selection import train_test_split\n",
        "from sklearn.linear_model import LogisticRegression\n",
        "from sklearn.metrics import roc_auc_score, roc_curve\n",
        "from sklearn.preprocessing import PolynomialFeatures\n",
        "from sklearn.feature_selection import SelectFromModel\n",
        "\n",
        "# 前処理\n",
        "df = pd.read_csv('drive/My Drive/Colab Notebooks/ML/kenshin_train.csv')\n",
        "df[\"AG_ratio\"].fillna(df[\"Alb\"] / (df[\"TP\"] - df[\"Alb\"]), inplace=True)\n",
        "df.drop_duplicates(inplace=True)\n",
        "df.reset_index(drop=True, inplace=True)\n",
        "df[\"Gender\"] = df[\"Gender\"].apply(lambda x: 1 if x==\"Male\" else 0)\n",
        "X = df.drop([\"disease\"], axis=1)\n",
        "y = df[\"disease\"]\n",
        "X_target = X.drop([\"Gender\"], axis=1)\n",
        "\n",
        "# 多項式・交互作用特徴量\n",
        "polynomial = PolynomialFeatures(degree=2, include_bias=False)\n",
        "polynomial_arr = polynomial.fit_transform(X_target)\n",
        "X_polynomial = pd.DataFrame(polynomial_arr, columns=[\"poly\" + str(x) for x in range(polynomial_arr.shape[1])])\n",
        "\n",
        "# 組み込み法のモデル、閾値の指定\n",
        "fs_model = LogisticRegression(penalty='l1', solver='liblinear', random_state=0)\n",
        "fs_threshold = \"mean\"\n",
        "# 組み込み法モデルの初期化\n",
        "selector = SelectFromModel(fs_model, threshold=fs_threshold)\n",
        "\n",
        "# 特徴量選択の実行\n",
        "selector.fit(X_polynomial, y)\n",
        "mask = selector.get_support()\n",
        "\n",
        "# 選択された特徴量だけのサンプル取得\n",
        "X_polynomial_masked = X_polynomial.loc[:, mask]\n",
        "\n",
        "# 学習用・評価用データの分割（元の説明変数Xの代わりに、特徴量選択後のX_polynomial_maskedを使う）\n",
        "X_train, X_test, y_train, y_test = train_test_split(X_polynomial_masked, y, test_size=0.3, random_state=0)\n",
        "\n",
        "# モデルの学習・予測\n",
        "model = LogisticRegression()\n",
        "model.fit(X_train, y_train)\n",
        "y_pred = model.predict_proba(X_test)[:, 1]\n",
        "\n",
        "# ROC曲線の描画（偽陽性率、真陽性率、閾値の算出）\n",
        "fpr, tpr, thresholds = roc_curve(y_true=y_test, y_score=y_pred)\n",
        "plt.plot(fpr, tpr, label='roc curve')\n",
        "plt.plot([0, 1], [0, 1], linestyle=':', label='random')\n",
        "plt.plot([0, 0, 1], [0, 1, 1], linestyle=':', label='ideal')\n",
        "plt.legend()\n",
        "plt.xlabel('false positive rate')\n",
        "plt.ylabel('true positive rate')\n",
        "plt.show()\n",
        "\n",
        "\n",
        "# AUCスコアの算出\n",
        "auc_score = roc_auc_score(y_true=y_test, y_score=y_pred)\n",
        "print(\"AUC:\", auc_score)"
      ],
      "execution_count": 46,
      "outputs": [
        {
          "output_type": "stream",
          "name": "stderr",
          "text": [
            "/usr/local/lib/python3.7/dist-packages/sklearn/svm/_base.py:947: ConvergenceWarning: Liblinear failed to converge, increase the number of iterations.\n",
            "  \"the number of iterations.\", ConvergenceWarning)\n",
            "/usr/local/lib/python3.7/dist-packages/sklearn/linear_model/_logistic.py:940: ConvergenceWarning: lbfgs failed to converge (status=1):\n",
            "STOP: TOTAL NO. of ITERATIONS REACHED LIMIT.\n",
            "\n",
            "Increase the number of iterations (max_iter) or scale the data as shown in:\n",
            "    https://scikit-learn.org/stable/modules/preprocessing.html\n",
            "Please also refer to the documentation for alternative solver options:\n",
            "    https://scikit-learn.org/stable/modules/linear_model.html#logistic-regression\n",
            "  extra_warning_msg=_LOGISTIC_SOLVER_CONVERGENCE_MSG)\n"
          ]
        },
        {
          "output_type": "display_data",
          "data": {
            "image/png": "[encoded data removed]",
            "text/plain": [
              "<Figure size 432x288 with 1 Axes>"
            ]
          },
          "metadata": {
            "needs_background": "light"
          }
        },
        {
          "output_type": "stream",
          "name": "stdout",
          "text": [
            "AUC: 0.8273249010976766\n"
          ]
        }
      ]
    },
    {
      "cell_type": "code",
      "metadata": {
        "colab": {
          "base_uri": "https://localhost:8080/",
          "height": 356
        },
        "id": "VFvRcW5fvWwF",
        "outputId": "e6ff4bdc-561f-44a2-d0c2-83c3bee6e5ad"
      },
      "source": [
        "# 特徴量の加工\n",
        "# 加工する関数の準備\n",
        "def change_age(x):\n",
        "  return x * 10\n",
        "\n",
        "data['年齢 '].applay(change_age)\n",
        "print(data)"
      ],
      "execution_count": 47,
      "outputs": [
        {
          "output_type": "error",
          "ename": "AttributeError",
          "evalue": "ignored",
          "traceback": [
            "\u001b[0;31m---------------------------------------------------------------------------\u001b[0m",
            "\u001b[0;31mAttributeError\u001b[0m                            Traceback (most recent call last)",
            "\u001b[0;32m<ipython-input-47-01524c439c75>\u001b[0m in \u001b[0;36m<module>\u001b[0;34m()\u001b[0m\n\u001b[1;32m      4\u001b[0m   \u001b[0;32mreturn\u001b[0m \u001b[0mx\u001b[0m \u001b[0;34m*\u001b[0m \u001b[0;36m10\u001b[0m\u001b[0;34m\u001b[0m\u001b[0;34m\u001b[0m\u001b[0m\n\u001b[1;32m      5\u001b[0m \u001b[0;34m\u001b[0m\u001b[0m\n\u001b[0;32m----> 6\u001b[0;31m \u001b[0mdata\u001b[0m\u001b[0;34m[\u001b[0m\u001b[0;34m'年齢 '\u001b[0m\u001b[0;34m]\u001b[0m\u001b[0;34m.\u001b[0m\u001b[0mapplay\u001b[0m\u001b[0;34m(\u001b[0m\u001b[0mchange_age\u001b[0m\u001b[0;34m)\u001b[0m\u001b[0;34m\u001b[0m\u001b[0;34m\u001b[0m\u001b[0m\n\u001b[0m\u001b[1;32m      7\u001b[0m \u001b[0mprint\u001b[0m\u001b[0;34m(\u001b[0m\u001b[0mdata\u001b[0m\u001b[0;34m)\u001b[0m\u001b[0;34m\u001b[0m\u001b[0;34m\u001b[0m\u001b[0m\n",
            "\u001b[0;32m/usr/local/lib/python3.7/dist-packages/pandas/core/generic.py\u001b[0m in \u001b[0;36m__getattr__\u001b[0;34m(self, name)\u001b[0m\n\u001b[1;32m   5139\u001b[0m             \u001b[0;32mif\u001b[0m \u001b[0mself\u001b[0m\u001b[0;34m.\u001b[0m\u001b[0m_info_axis\u001b[0m\u001b[0;34m.\u001b[0m\u001b[0m_can_hold_identifiers_and_holds_name\u001b[0m\u001b[0;34m(\u001b[0m\u001b[0mname\u001b[0m\u001b[0;34m)\u001b[0m\u001b[0;34m:\u001b[0m\u001b[0;34m\u001b[0m\u001b[0;34m\u001b[0m\u001b[0m\n\u001b[1;32m   5140\u001b[0m                 \u001b[0;32mreturn\u001b[0m \u001b[0mself\u001b[0m\u001b[0;34m[\u001b[0m\u001b[0mname\u001b[0m\u001b[0;34m]\u001b[0m\u001b[0;34m\u001b[0m\u001b[0;34m\u001b[0m\u001b[0m\n\u001b[0;32m-> 5141\u001b[0;31m             \u001b[0;32mreturn\u001b[0m \u001b[0mobject\u001b[0m\u001b[0;34m.\u001b[0m\u001b[0m__getattribute__\u001b[0m\u001b[0;34m(\u001b[0m\u001b[0mself\u001b[0m\u001b[0;34m,\u001b[0m \u001b[0mname\u001b[0m\u001b[0;34m)\u001b[0m\u001b[0;34m\u001b[0m\u001b[0;34m\u001b[0m\u001b[0m\n\u001b[0m\u001b[1;32m   5142\u001b[0m \u001b[0;34m\u001b[0m\u001b[0m\n\u001b[1;32m   5143\u001b[0m     \u001b[0;32mdef\u001b[0m \u001b[0m__setattr__\u001b[0m\u001b[0;34m(\u001b[0m\u001b[0mself\u001b[0m\u001b[0;34m,\u001b[0m \u001b[0mname\u001b[0m\u001b[0;34m:\u001b[0m \u001b[0mstr\u001b[0m\u001b[0;34m,\u001b[0m \u001b[0mvalue\u001b[0m\u001b[0;34m)\u001b[0m \u001b[0;34m->\u001b[0m \u001b[0;32mNone\u001b[0m\u001b[0;34m:\u001b[0m\u001b[0;34m\u001b[0m\u001b[0;34m\u001b[0m\u001b[0m\n",
            "\u001b[0;31mAttributeError\u001b[0m: 'Series' object has no attribute 'applay'"
          ]
        }
      ]
    }
  ]
}